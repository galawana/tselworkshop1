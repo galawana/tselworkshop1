{
 "cells": [
  {
   "cell_type": "markdown",
   "metadata": {
    "colab_type": "text",
    "id": "8PBgreirT8nZ"
   },
   "source": [
    "# Machine Learning\n",
    "### Data Science Pipeline Workshop 11 Juni 2022\n",
    "- Author : Randy Galawana\n",
    "- Email  : randy_galawana1@telkomsel.co.id\n",
    "\n",
    "&copy; Telkomsel 2022"
   ]
  },
  {
   "cell_type": "markdown",
   "metadata": {
    "colab_type": "text",
    "id": "NY_I4m_AUx02"
   },
   "source": [
    "## Data Preparation"
   ]
  },
  {
   "cell_type": "markdown",
   "metadata": {
    "colab_type": "text",
    "id": "g9-bCG9RU6VD"
   },
   "source": [
    "### Load Data"
   ]
  },
  {
   "cell_type": "code",
   "execution_count": 1,
   "metadata": {
    "colab": {
     "base_uri": "https://localhost:8080/",
     "height": 343
    },
    "colab_type": "code",
    "executionInfo": {
     "elapsed": 2849,
     "status": "ok",
     "timestamp": 1579439734999,
     "user": {
      "displayName": "Randy Galawana",
      "photoUrl": "https://lh3.googleusercontent.com/a-/AAuE7mDKVh_qF5wUtXi8QCU70K2Uylay-BBVbM8owGHoJw=s64",
      "userId": "05336196181261096487"
     },
     "user_tz": -420
    },
    "id": "exjDnW78RRLC",
    "outputId": "143e74de-2a35-4ac7-8b85-43c644740688"
   },
   "outputs": [
    {
     "data": {
      "text/html": [
       "<div>\n",
       "<style scoped>\n",
       "    .dataframe tbody tr th:only-of-type {\n",
       "        vertical-align: middle;\n",
       "    }\n",
       "\n",
       "    .dataframe tbody tr th {\n",
       "        vertical-align: top;\n",
       "    }\n",
       "\n",
       "    .dataframe thead th {\n",
       "        text-align: right;\n",
       "    }\n",
       "</style>\n",
       "<table border=\"1\" class=\"dataframe\">\n",
       "  <thead>\n",
       "    <tr style=\"text-align: right;\">\n",
       "      <th></th>\n",
       "      <th>RowNumber</th>\n",
       "      <th>CustomerId</th>\n",
       "      <th>Surname</th>\n",
       "      <th>CreditScore</th>\n",
       "      <th>Geography</th>\n",
       "      <th>Gender</th>\n",
       "      <th>Age</th>\n",
       "      <th>Tenure</th>\n",
       "      <th>Balance</th>\n",
       "      <th>NumOfProducts</th>\n",
       "      <th>HasCrCard</th>\n",
       "      <th>IsActiveMember</th>\n",
       "      <th>EstimatedSalary</th>\n",
       "      <th>Exited</th>\n",
       "    </tr>\n",
       "  </thead>\n",
       "  <tbody>\n",
       "    <tr>\n",
       "      <th>0</th>\n",
       "      <td>1</td>\n",
       "      <td>15634602</td>\n",
       "      <td>Hargrave</td>\n",
       "      <td>619</td>\n",
       "      <td>France</td>\n",
       "      <td>Female</td>\n",
       "      <td>42</td>\n",
       "      <td>2</td>\n",
       "      <td>0.00</td>\n",
       "      <td>1</td>\n",
       "      <td>1</td>\n",
       "      <td>1</td>\n",
       "      <td>101348.88</td>\n",
       "      <td>1</td>\n",
       "    </tr>\n",
       "    <tr>\n",
       "      <th>1</th>\n",
       "      <td>2</td>\n",
       "      <td>15647311</td>\n",
       "      <td>Hill</td>\n",
       "      <td>608</td>\n",
       "      <td>Spain</td>\n",
       "      <td>Female</td>\n",
       "      <td>41</td>\n",
       "      <td>1</td>\n",
       "      <td>83807.86</td>\n",
       "      <td>1</td>\n",
       "      <td>0</td>\n",
       "      <td>1</td>\n",
       "      <td>112542.58</td>\n",
       "      <td>0</td>\n",
       "    </tr>\n",
       "    <tr>\n",
       "      <th>2</th>\n",
       "      <td>3</td>\n",
       "      <td>15619304</td>\n",
       "      <td>Onio</td>\n",
       "      <td>502</td>\n",
       "      <td>France</td>\n",
       "      <td>Female</td>\n",
       "      <td>42</td>\n",
       "      <td>8</td>\n",
       "      <td>159660.80</td>\n",
       "      <td>3</td>\n",
       "      <td>1</td>\n",
       "      <td>0</td>\n",
       "      <td>113931.57</td>\n",
       "      <td>1</td>\n",
       "    </tr>\n",
       "    <tr>\n",
       "      <th>3</th>\n",
       "      <td>4</td>\n",
       "      <td>15701354</td>\n",
       "      <td>Boni</td>\n",
       "      <td>699</td>\n",
       "      <td>France</td>\n",
       "      <td>Female</td>\n",
       "      <td>39</td>\n",
       "      <td>1</td>\n",
       "      <td>0.00</td>\n",
       "      <td>2</td>\n",
       "      <td>0</td>\n",
       "      <td>0</td>\n",
       "      <td>93826.63</td>\n",
       "      <td>0</td>\n",
       "    </tr>\n",
       "    <tr>\n",
       "      <th>4</th>\n",
       "      <td>5</td>\n",
       "      <td>15737888</td>\n",
       "      <td>Mitchell</td>\n",
       "      <td>850</td>\n",
       "      <td>Spain</td>\n",
       "      <td>Female</td>\n",
       "      <td>43</td>\n",
       "      <td>2</td>\n",
       "      <td>125510.82</td>\n",
       "      <td>1</td>\n",
       "      <td>1</td>\n",
       "      <td>1</td>\n",
       "      <td>79084.10</td>\n",
       "      <td>0</td>\n",
       "    </tr>\n",
       "    <tr>\n",
       "      <th>5</th>\n",
       "      <td>6</td>\n",
       "      <td>15574012</td>\n",
       "      <td>Chu</td>\n",
       "      <td>645</td>\n",
       "      <td>Spain</td>\n",
       "      <td>Male</td>\n",
       "      <td>44</td>\n",
       "      <td>8</td>\n",
       "      <td>113755.78</td>\n",
       "      <td>2</td>\n",
       "      <td>1</td>\n",
       "      <td>0</td>\n",
       "      <td>149756.71</td>\n",
       "      <td>1</td>\n",
       "    </tr>\n",
       "    <tr>\n",
       "      <th>6</th>\n",
       "      <td>7</td>\n",
       "      <td>15592531</td>\n",
       "      <td>Bartlett</td>\n",
       "      <td>822</td>\n",
       "      <td>France</td>\n",
       "      <td>Male</td>\n",
       "      <td>50</td>\n",
       "      <td>7</td>\n",
       "      <td>0.00</td>\n",
       "      <td>2</td>\n",
       "      <td>1</td>\n",
       "      <td>1</td>\n",
       "      <td>10062.80</td>\n",
       "      <td>0</td>\n",
       "    </tr>\n",
       "    <tr>\n",
       "      <th>7</th>\n",
       "      <td>8</td>\n",
       "      <td>15656148</td>\n",
       "      <td>Obinna</td>\n",
       "      <td>376</td>\n",
       "      <td>Germany</td>\n",
       "      <td>Female</td>\n",
       "      <td>29</td>\n",
       "      <td>4</td>\n",
       "      <td>115046.74</td>\n",
       "      <td>4</td>\n",
       "      <td>1</td>\n",
       "      <td>0</td>\n",
       "      <td>119346.88</td>\n",
       "      <td>1</td>\n",
       "    </tr>\n",
       "    <tr>\n",
       "      <th>8</th>\n",
       "      <td>9</td>\n",
       "      <td>15792365</td>\n",
       "      <td>He</td>\n",
       "      <td>501</td>\n",
       "      <td>France</td>\n",
       "      <td>Male</td>\n",
       "      <td>44</td>\n",
       "      <td>4</td>\n",
       "      <td>142051.07</td>\n",
       "      <td>2</td>\n",
       "      <td>0</td>\n",
       "      <td>1</td>\n",
       "      <td>74940.50</td>\n",
       "      <td>0</td>\n",
       "    </tr>\n",
       "    <tr>\n",
       "      <th>9</th>\n",
       "      <td>10</td>\n",
       "      <td>15592389</td>\n",
       "      <td>H?</td>\n",
       "      <td>684</td>\n",
       "      <td>France</td>\n",
       "      <td>Male</td>\n",
       "      <td>27</td>\n",
       "      <td>2</td>\n",
       "      <td>134603.88</td>\n",
       "      <td>1</td>\n",
       "      <td>1</td>\n",
       "      <td>1</td>\n",
       "      <td>71725.73</td>\n",
       "      <td>0</td>\n",
       "    </tr>\n",
       "  </tbody>\n",
       "</table>\n",
       "</div>"
      ],
      "text/plain": [
       "   RowNumber  CustomerId   Surname  CreditScore Geography  Gender  Age  \\\n",
       "0          1    15634602  Hargrave          619    France  Female   42   \n",
       "1          2    15647311      Hill          608     Spain  Female   41   \n",
       "2          3    15619304      Onio          502    France  Female   42   \n",
       "3          4    15701354      Boni          699    France  Female   39   \n",
       "4          5    15737888  Mitchell          850     Spain  Female   43   \n",
       "5          6    15574012       Chu          645     Spain    Male   44   \n",
       "6          7    15592531  Bartlett          822    France    Male   50   \n",
       "7          8    15656148    Obinna          376   Germany  Female   29   \n",
       "8          9    15792365        He          501    France    Male   44   \n",
       "9         10    15592389        H?          684    France    Male   27   \n",
       "\n",
       "   Tenure    Balance  NumOfProducts  HasCrCard  IsActiveMember  \\\n",
       "0       2       0.00              1          1               1   \n",
       "1       1   83807.86              1          0               1   \n",
       "2       8  159660.80              3          1               0   \n",
       "3       1       0.00              2          0               0   \n",
       "4       2  125510.82              1          1               1   \n",
       "5       8  113755.78              2          1               0   \n",
       "6       7       0.00              2          1               1   \n",
       "7       4  115046.74              4          1               0   \n",
       "8       4  142051.07              2          0               1   \n",
       "9       2  134603.88              1          1               1   \n",
       "\n",
       "   EstimatedSalary  Exited  \n",
       "0        101348.88       1  \n",
       "1        112542.58       0  \n",
       "2        113931.57       1  \n",
       "3         93826.63       0  \n",
       "4         79084.10       0  \n",
       "5        149756.71       1  \n",
       "6         10062.80       0  \n",
       "7        119346.88       1  \n",
       "8         74940.50       0  \n",
       "9         71725.73       0  "
      ]
     },
     "execution_count": 1,
     "metadata": {},
     "output_type": "execute_result"
    }
   ],
   "source": [
    "import numpy as np\n",
    "import pandas as pd\n",
    "import warnings\n",
    "import matplotlib.pyplot as plt\n",
    "import seaborn as sns\n",
    "warnings.filterwarnings('ignore')\n",
    "\n",
    "url = 'https://raw.githubusercontent.com/galawana/DSA_Python/master/csv/Churn_Modelling.csv'\n",
    "df = pd.read_csv(url)\n",
    "\n",
    "df.head(10)"
   ]
  },
  {
   "cell_type": "markdown",
   "metadata": {
    "colab_type": "text",
    "id": "wVuEFNpHVEyo"
   },
   "source": [
    "### Descriptive Analysis"
   ]
  },
  {
   "cell_type": "code",
   "execution_count": 2,
   "metadata": {
    "colab": {
     "base_uri": "https://localhost:8080/",
     "height": 373
    },
    "colab_type": "code",
    "executionInfo": {
     "elapsed": 2831,
     "status": "ok",
     "timestamp": 1579439735004,
     "user": {
      "displayName": "Randy Galawana",
      "photoUrl": "https://lh3.googleusercontent.com/a-/AAuE7mDKVh_qF5wUtXi8QCU70K2Uylay-BBVbM8owGHoJw=s64",
      "userId": "05336196181261096487"
     },
     "user_tz": -420
    },
    "id": "RYsTj8bRTsOb",
    "outputId": "cdb84759-433c-4b63-ed18-07572b68ce9f"
   },
   "outputs": [
    {
     "data": {
      "text/html": [
       "<div>\n",
       "<style scoped>\n",
       "    .dataframe tbody tr th:only-of-type {\n",
       "        vertical-align: middle;\n",
       "    }\n",
       "\n",
       "    .dataframe tbody tr th {\n",
       "        vertical-align: top;\n",
       "    }\n",
       "\n",
       "    .dataframe thead th {\n",
       "        text-align: right;\n",
       "    }\n",
       "</style>\n",
       "<table border=\"1\" class=\"dataframe\">\n",
       "  <thead>\n",
       "    <tr style=\"text-align: right;\">\n",
       "      <th></th>\n",
       "      <th>count</th>\n",
       "      <th>mean</th>\n",
       "      <th>std</th>\n",
       "      <th>min</th>\n",
       "      <th>25%</th>\n",
       "      <th>50%</th>\n",
       "      <th>75%</th>\n",
       "      <th>max</th>\n",
       "    </tr>\n",
       "  </thead>\n",
       "  <tbody>\n",
       "    <tr>\n",
       "      <th>RowNumber</th>\n",
       "      <td>10000.0</td>\n",
       "      <td>5.000500e+03</td>\n",
       "      <td>2886.895680</td>\n",
       "      <td>1.00</td>\n",
       "      <td>2500.75</td>\n",
       "      <td>5.000500e+03</td>\n",
       "      <td>7.500250e+03</td>\n",
       "      <td>10000.00</td>\n",
       "    </tr>\n",
       "    <tr>\n",
       "      <th>CustomerId</th>\n",
       "      <td>10000.0</td>\n",
       "      <td>1.569094e+07</td>\n",
       "      <td>71936.186123</td>\n",
       "      <td>15565701.00</td>\n",
       "      <td>15628528.25</td>\n",
       "      <td>1.569074e+07</td>\n",
       "      <td>1.575323e+07</td>\n",
       "      <td>15815690.00</td>\n",
       "    </tr>\n",
       "    <tr>\n",
       "      <th>CreditScore</th>\n",
       "      <td>10000.0</td>\n",
       "      <td>6.505288e+02</td>\n",
       "      <td>96.653299</td>\n",
       "      <td>350.00</td>\n",
       "      <td>584.00</td>\n",
       "      <td>6.520000e+02</td>\n",
       "      <td>7.180000e+02</td>\n",
       "      <td>850.00</td>\n",
       "    </tr>\n",
       "    <tr>\n",
       "      <th>Age</th>\n",
       "      <td>10000.0</td>\n",
       "      <td>3.892180e+01</td>\n",
       "      <td>10.487806</td>\n",
       "      <td>18.00</td>\n",
       "      <td>32.00</td>\n",
       "      <td>3.700000e+01</td>\n",
       "      <td>4.400000e+01</td>\n",
       "      <td>92.00</td>\n",
       "    </tr>\n",
       "    <tr>\n",
       "      <th>Tenure</th>\n",
       "      <td>10000.0</td>\n",
       "      <td>5.012800e+00</td>\n",
       "      <td>2.892174</td>\n",
       "      <td>0.00</td>\n",
       "      <td>3.00</td>\n",
       "      <td>5.000000e+00</td>\n",
       "      <td>7.000000e+00</td>\n",
       "      <td>10.00</td>\n",
       "    </tr>\n",
       "    <tr>\n",
       "      <th>Balance</th>\n",
       "      <td>10000.0</td>\n",
       "      <td>7.648589e+04</td>\n",
       "      <td>62397.405202</td>\n",
       "      <td>0.00</td>\n",
       "      <td>0.00</td>\n",
       "      <td>9.719854e+04</td>\n",
       "      <td>1.276442e+05</td>\n",
       "      <td>250898.09</td>\n",
       "    </tr>\n",
       "    <tr>\n",
       "      <th>NumOfProducts</th>\n",
       "      <td>10000.0</td>\n",
       "      <td>1.530200e+00</td>\n",
       "      <td>0.581654</td>\n",
       "      <td>1.00</td>\n",
       "      <td>1.00</td>\n",
       "      <td>1.000000e+00</td>\n",
       "      <td>2.000000e+00</td>\n",
       "      <td>4.00</td>\n",
       "    </tr>\n",
       "    <tr>\n",
       "      <th>HasCrCard</th>\n",
       "      <td>10000.0</td>\n",
       "      <td>7.055000e-01</td>\n",
       "      <td>0.455840</td>\n",
       "      <td>0.00</td>\n",
       "      <td>0.00</td>\n",
       "      <td>1.000000e+00</td>\n",
       "      <td>1.000000e+00</td>\n",
       "      <td>1.00</td>\n",
       "    </tr>\n",
       "    <tr>\n",
       "      <th>IsActiveMember</th>\n",
       "      <td>10000.0</td>\n",
       "      <td>5.151000e-01</td>\n",
       "      <td>0.499797</td>\n",
       "      <td>0.00</td>\n",
       "      <td>0.00</td>\n",
       "      <td>1.000000e+00</td>\n",
       "      <td>1.000000e+00</td>\n",
       "      <td>1.00</td>\n",
       "    </tr>\n",
       "    <tr>\n",
       "      <th>EstimatedSalary</th>\n",
       "      <td>10000.0</td>\n",
       "      <td>1.000902e+05</td>\n",
       "      <td>57510.492818</td>\n",
       "      <td>11.58</td>\n",
       "      <td>51002.11</td>\n",
       "      <td>1.001939e+05</td>\n",
       "      <td>1.493882e+05</td>\n",
       "      <td>199992.48</td>\n",
       "    </tr>\n",
       "    <tr>\n",
       "      <th>Exited</th>\n",
       "      <td>10000.0</td>\n",
       "      <td>2.037000e-01</td>\n",
       "      <td>0.402769</td>\n",
       "      <td>0.00</td>\n",
       "      <td>0.00</td>\n",
       "      <td>0.000000e+00</td>\n",
       "      <td>0.000000e+00</td>\n",
       "      <td>1.00</td>\n",
       "    </tr>\n",
       "  </tbody>\n",
       "</table>\n",
       "</div>"
      ],
      "text/plain": [
       "                   count          mean           std          min  \\\n",
       "RowNumber        10000.0  5.000500e+03   2886.895680         1.00   \n",
       "CustomerId       10000.0  1.569094e+07  71936.186123  15565701.00   \n",
       "CreditScore      10000.0  6.505288e+02     96.653299       350.00   \n",
       "Age              10000.0  3.892180e+01     10.487806        18.00   \n",
       "Tenure           10000.0  5.012800e+00      2.892174         0.00   \n",
       "Balance          10000.0  7.648589e+04  62397.405202         0.00   \n",
       "NumOfProducts    10000.0  1.530200e+00      0.581654         1.00   \n",
       "HasCrCard        10000.0  7.055000e-01      0.455840         0.00   \n",
       "IsActiveMember   10000.0  5.151000e-01      0.499797         0.00   \n",
       "EstimatedSalary  10000.0  1.000902e+05  57510.492818        11.58   \n",
       "Exited           10000.0  2.037000e-01      0.402769         0.00   \n",
       "\n",
       "                         25%           50%           75%          max  \n",
       "RowNumber            2500.75  5.000500e+03  7.500250e+03     10000.00  \n",
       "CustomerId       15628528.25  1.569074e+07  1.575323e+07  15815690.00  \n",
       "CreditScore           584.00  6.520000e+02  7.180000e+02       850.00  \n",
       "Age                    32.00  3.700000e+01  4.400000e+01        92.00  \n",
       "Tenure                  3.00  5.000000e+00  7.000000e+00        10.00  \n",
       "Balance                 0.00  9.719854e+04  1.276442e+05    250898.09  \n",
       "NumOfProducts           1.00  1.000000e+00  2.000000e+00         4.00  \n",
       "HasCrCard               0.00  1.000000e+00  1.000000e+00         1.00  \n",
       "IsActiveMember          0.00  1.000000e+00  1.000000e+00         1.00  \n",
       "EstimatedSalary     51002.11  1.001939e+05  1.493882e+05    199992.48  \n",
       "Exited                  0.00  0.000000e+00  0.000000e+00         1.00  "
      ]
     },
     "execution_count": 2,
     "metadata": {},
     "output_type": "execute_result"
    }
   ],
   "source": [
    "df.describe().T"
   ]
  },
  {
   "cell_type": "code",
   "execution_count": 3,
   "metadata": {
    "colab": {
     "base_uri": "https://localhost:8080/",
     "height": 34
    },
    "colab_type": "code",
    "executionInfo": {
     "elapsed": 2803,
     "status": "ok",
     "timestamp": 1579439735006,
     "user": {
      "displayName": "Randy Galawana",
      "photoUrl": "https://lh3.googleusercontent.com/a-/AAuE7mDKVh_qF5wUtXi8QCU70K2Uylay-BBVbM8owGHoJw=s64",
      "userId": "05336196181261096487"
     },
     "user_tz": -420
    },
    "id": "7XJ980JHXuFW",
    "outputId": "8ea770d9-e3fb-49f9-e993-3d21bda9df67"
   },
   "outputs": [
    {
     "data": {
      "text/plain": [
       "(10000, 14)"
      ]
     },
     "execution_count": 3,
     "metadata": {},
     "output_type": "execute_result"
    }
   ],
   "source": [
    "# Shape \n",
    "df.shape"
   ]
  },
  {
   "cell_type": "code",
   "execution_count": 4,
   "metadata": {
    "colab": {
     "base_uri": "https://localhost:8080/",
     "height": 269
    },
    "colab_type": "code",
    "executionInfo": {
     "elapsed": 2785,
     "status": "ok",
     "timestamp": 1579439735007,
     "user": {
      "displayName": "Randy Galawana",
      "photoUrl": "https://lh3.googleusercontent.com/a-/AAuE7mDKVh_qF5wUtXi8QCU70K2Uylay-BBVbM8owGHoJw=s64",
      "userId": "05336196181261096487"
     },
     "user_tz": -420
    },
    "id": "u4J0ZFlUZoTR",
    "outputId": "bc1045e2-1bfd-4a74-b3cc-7d816b3c2c4f"
   },
   "outputs": [
    {
     "name": "stdout",
     "output_type": "stream",
     "text": [
      "RowNumber            int64\n",
      "CustomerId           int64\n",
      "Surname             object\n",
      "CreditScore          int64\n",
      "Geography           object\n",
      "Gender              object\n",
      "Age                  int64\n",
      "Tenure               int64\n",
      "Balance            float64\n",
      "NumOfProducts        int64\n",
      "HasCrCard            int64\n",
      "IsActiveMember       int64\n",
      "EstimatedSalary    float64\n",
      "Exited               int64\n",
      "dtype: object\n"
     ]
    }
   ],
   "source": [
    "# Variable Types\n",
    "print(df.dtypes)"
   ]
  },
  {
   "cell_type": "code",
   "execution_count": 5,
   "metadata": {
    "colab": {
     "base_uri": "https://localhost:8080/",
     "height": 269
    },
    "colab_type": "code",
    "executionInfo": {
     "elapsed": 2765,
     "status": "ok",
     "timestamp": 1579439735008,
     "user": {
      "displayName": "Randy Galawana",
      "photoUrl": "https://lh3.googleusercontent.com/a-/AAuE7mDKVh_qF5wUtXi8QCU70K2Uylay-BBVbM8owGHoJw=s64",
      "userId": "05336196181261096487"
     },
     "user_tz": -420
    },
    "id": "Rlbkh1bktqBO",
    "outputId": "5aa0679f-02ce-4b31-be83-83d551bc2c89"
   },
   "outputs": [
    {
     "data": {
      "text/plain": [
       "RowNumber          0\n",
       "CustomerId         0\n",
       "Surname            0\n",
       "CreditScore        0\n",
       "Geography          0\n",
       "Gender             0\n",
       "Age                0\n",
       "Tenure             0\n",
       "Balance            0\n",
       "NumOfProducts      0\n",
       "HasCrCard          0\n",
       "IsActiveMember     0\n",
       "EstimatedSalary    0\n",
       "Exited             0\n",
       "dtype: int64"
      ]
     },
     "execution_count": 5,
     "metadata": {},
     "output_type": "execute_result"
    }
   ],
   "source": [
    "# Check Null Values\n",
    "df.isnull().sum()"
   ]
  },
  {
   "cell_type": "markdown",
   "metadata": {
    "colab_type": "text",
    "id": "hPThOYV_WeuT"
   },
   "source": [
    "### Variable Understanding"
   ]
  },
  {
   "cell_type": "code",
   "execution_count": 6,
   "metadata": {
    "colab": {},
    "colab_type": "code",
    "id": "mVoDTCXqU_c-"
   },
   "outputs": [],
   "source": [
    "# Here we identify the Target variable and Predictor variable\n",
    "Target_var=df['Exited']\n",
    "Pred_var=df.drop(['Exited'],axis=1)\n",
    "\n",
    "# From Pred_var we divide into 2 type, Continues and Categorical\n",
    "cont=df[['RowNumber','CustomerId','CreditScore','Age','Balance','EstimatedSalary']]\n",
    "cata=df[['Surname','Geography','Gender','Tenure','NumOfProducts','HasCrCard','IsActiveMember']]"
   ]
  },
  {
   "cell_type": "code",
   "execution_count": 7,
   "metadata": {
    "colab": {
     "base_uri": "https://localhost:8080/",
     "height": 225
    },
    "colab_type": "code",
    "executionInfo": {
     "elapsed": 2732,
     "status": "ok",
     "timestamp": 1579439735010,
     "user": {
      "displayName": "Randy Galawana",
      "photoUrl": "https://lh3.googleusercontent.com/a-/AAuE7mDKVh_qF5wUtXi8QCU70K2Uylay-BBVbM8owGHoJw=s64",
      "userId": "05336196181261096487"
     },
     "user_tz": -420
    },
    "id": "dTXe3dZIXDRo",
    "outputId": "7c468aa2-e804-4ba1-eadd-d878970f05e6"
   },
   "outputs": [
    {
     "data": {
      "text/html": [
       "<div>\n",
       "<style scoped>\n",
       "    .dataframe tbody tr th:only-of-type {\n",
       "        vertical-align: middle;\n",
       "    }\n",
       "\n",
       "    .dataframe tbody tr th {\n",
       "        vertical-align: top;\n",
       "    }\n",
       "\n",
       "    .dataframe thead th {\n",
       "        text-align: right;\n",
       "    }\n",
       "</style>\n",
       "<table border=\"1\" class=\"dataframe\">\n",
       "  <thead>\n",
       "    <tr style=\"text-align: right;\">\n",
       "      <th></th>\n",
       "      <th>count</th>\n",
       "      <th>mean</th>\n",
       "      <th>std</th>\n",
       "      <th>min</th>\n",
       "      <th>25%</th>\n",
       "      <th>50%</th>\n",
       "      <th>75%</th>\n",
       "      <th>max</th>\n",
       "    </tr>\n",
       "  </thead>\n",
       "  <tbody>\n",
       "    <tr>\n",
       "      <th>RowNumber</th>\n",
       "      <td>10000.0</td>\n",
       "      <td>5.000500e+03</td>\n",
       "      <td>2886.895680</td>\n",
       "      <td>1.00</td>\n",
       "      <td>2500.75</td>\n",
       "      <td>5.000500e+03</td>\n",
       "      <td>7.500250e+03</td>\n",
       "      <td>10000.00</td>\n",
       "    </tr>\n",
       "    <tr>\n",
       "      <th>CustomerId</th>\n",
       "      <td>10000.0</td>\n",
       "      <td>1.569094e+07</td>\n",
       "      <td>71936.186123</td>\n",
       "      <td>15565701.00</td>\n",
       "      <td>15628528.25</td>\n",
       "      <td>1.569074e+07</td>\n",
       "      <td>1.575323e+07</td>\n",
       "      <td>15815690.00</td>\n",
       "    </tr>\n",
       "    <tr>\n",
       "      <th>CreditScore</th>\n",
       "      <td>10000.0</td>\n",
       "      <td>6.505288e+02</td>\n",
       "      <td>96.653299</td>\n",
       "      <td>350.00</td>\n",
       "      <td>584.00</td>\n",
       "      <td>6.520000e+02</td>\n",
       "      <td>7.180000e+02</td>\n",
       "      <td>850.00</td>\n",
       "    </tr>\n",
       "    <tr>\n",
       "      <th>Age</th>\n",
       "      <td>10000.0</td>\n",
       "      <td>3.892180e+01</td>\n",
       "      <td>10.487806</td>\n",
       "      <td>18.00</td>\n",
       "      <td>32.00</td>\n",
       "      <td>3.700000e+01</td>\n",
       "      <td>4.400000e+01</td>\n",
       "      <td>92.00</td>\n",
       "    </tr>\n",
       "    <tr>\n",
       "      <th>Balance</th>\n",
       "      <td>10000.0</td>\n",
       "      <td>7.648589e+04</td>\n",
       "      <td>62397.405202</td>\n",
       "      <td>0.00</td>\n",
       "      <td>0.00</td>\n",
       "      <td>9.719854e+04</td>\n",
       "      <td>1.276442e+05</td>\n",
       "      <td>250898.09</td>\n",
       "    </tr>\n",
       "    <tr>\n",
       "      <th>EstimatedSalary</th>\n",
       "      <td>10000.0</td>\n",
       "      <td>1.000902e+05</td>\n",
       "      <td>57510.492818</td>\n",
       "      <td>11.58</td>\n",
       "      <td>51002.11</td>\n",
       "      <td>1.001939e+05</td>\n",
       "      <td>1.493882e+05</td>\n",
       "      <td>199992.48</td>\n",
       "    </tr>\n",
       "  </tbody>\n",
       "</table>\n",
       "</div>"
      ],
      "text/plain": [
       "                   count          mean           std          min  \\\n",
       "RowNumber        10000.0  5.000500e+03   2886.895680         1.00   \n",
       "CustomerId       10000.0  1.569094e+07  71936.186123  15565701.00   \n",
       "CreditScore      10000.0  6.505288e+02     96.653299       350.00   \n",
       "Age              10000.0  3.892180e+01     10.487806        18.00   \n",
       "Balance          10000.0  7.648589e+04  62397.405202         0.00   \n",
       "EstimatedSalary  10000.0  1.000902e+05  57510.492818        11.58   \n",
       "\n",
       "                         25%           50%           75%          max  \n",
       "RowNumber            2500.75  5.000500e+03  7.500250e+03     10000.00  \n",
       "CustomerId       15628528.25  1.569074e+07  1.575323e+07  15815690.00  \n",
       "CreditScore           584.00  6.520000e+02  7.180000e+02       850.00  \n",
       "Age                    32.00  3.700000e+01  4.400000e+01        92.00  \n",
       "Balance                 0.00  9.719854e+04  1.276442e+05    250898.09  \n",
       "EstimatedSalary     51002.11  1.001939e+05  1.493882e+05    199992.48  "
      ]
     },
     "execution_count": 7,
     "metadata": {},
     "output_type": "execute_result"
    }
   ],
   "source": [
    "#Describe Continues data\n",
    "cont.describe().T"
   ]
  },
  {
   "cell_type": "code",
   "execution_count": 0,
   "metadata": {
    "colab": {},
    "colab_type": "code",
    "id": "IG0bPxcSaOwF"
   },
   "outputs": [],
   "source": [
    "# we will exclude RowNumber, Customerid From continues data\n",
    "new_cont = df[['CreditScore','Age','Balance','EstimatedSalary']]"
   ]
  },
  {
   "cell_type": "markdown",
   "metadata": {
    "colab_type": "text",
    "id": "sxyGBRJ0c9XJ"
   },
   "source": [
    "## Building Model Training - Supervised Learning"
   ]
  },
  {
   "cell_type": "markdown",
   "metadata": {
    "colab_type": "text",
    "id": "pOSLncvTa01P"
   },
   "source": [
    "* Age, Geography, Geography_Germany, IsActiveMember, NumOfProduct is top 4 corelated feature to Exited parameters"
   ]
  },
  {
   "cell_type": "code",
   "execution_count": 9,
   "metadata": {},
   "outputs": [],
   "source": [
    "# Extract Numerical Feature\n",
    "feature_num = ['CreditScore','Age', 'Tenure','Balance','NumOfProducts','HasCrCard','IsActiveMember','EstimatedSalary']\n",
    "feature_track = ['Exited']\n",
    "# Change Categorical Feature\n",
    "feature_cat = ['Gender', 'Geography']\n",
    "\n",
    "df_dummy = pd.get_dummies(df,columns = feature_cat)\n",
    "\n"
   ]
  },
  {
   "cell_type": "code",
   "execution_count": 10,
   "metadata": {
    "colab": {},
    "colab_type": "code",
    "id": "CfIv6owqc0Fv"
   },
   "outputs": [],
   "source": [
    "from sklearn.metrics import accuracy_score, recall_score, roc_auc_score, confusion_matrix, roc_curve, classification_report \n",
    "from sklearn.feature_selection import SelectFromModel\n",
    "\n",
    "X=df_dummy[feature_num + ['Gender_Female', 'Geography_France', 'Geography_Germany','Geography_Spain']]\n",
    "y=df_dummy[feature_track]"
   ]
  },
  {
   "cell_type": "markdown",
   "metadata": {
    "colab_type": "text",
    "id": "IIhaYDNvmWO_"
   },
   "source": [
    "### Split Data Training and Test"
   ]
  },
  {
   "cell_type": "code",
   "execution_count": 12,
   "metadata": {
    "colab": {
     "base_uri": "https://localhost:8080/",
     "height": 151
    },
    "colab_type": "code",
    "executionInfo": {
     "elapsed": 9793,
     "status": "ok",
     "timestamp": 1579439742409,
     "user": {
      "displayName": "Randy Galawana",
      "photoUrl": "https://lh3.googleusercontent.com/a-/AAuE7mDKVh_qF5wUtXi8QCU70K2Uylay-BBVbM8owGHoJw=s64",
      "userId": "05336196181261096487"
     },
     "user_tz": -420
    },
    "id": "GdNjK7IAjF5S",
    "outputId": "c60da5d5-e064-4b85-bb74-ec240a9a95b4"
   },
   "outputs": [
    {
     "name": "stdout",
     "output_type": "stream",
     "text": [
      "Train Distribution Value\n",
      "0    0.797571\n",
      "1    0.202429\n",
      "Name: Exited, dtype: float64\n",
      "Test Distribution Value\n",
      "0    0.793333\n",
      "1    0.206667\n",
      "Name: Exited, dtype: float64\n"
     ]
    }
   ],
   "source": [
    "# Split Data\n",
    "from sklearn.model_selection import train_test_split, cross_val_score\n",
    "# split data into train and test sets\n",
    "X_train, X_test, y_train, y_test = train_test_split(X, y, test_size=0.30, random_state=10)\n",
    "\n",
    "print(\"Train Distribution Value\")\n",
    "print(y_train['Exited'].value_counts(normalize=True))\n",
    "\n",
    "print(\"Test Distribution Value\")\n",
    "print(y_test['Exited'].value_counts(normalize=True))"
   ]
  },
  {
   "cell_type": "markdown",
   "metadata": {},
   "source": [
    "### Fit to algorithm"
   ]
  },
  {
   "cell_type": "code",
   "execution_count": 18,
   "metadata": {},
   "outputs": [
    {
     "name": "stdout",
     "output_type": "stream",
     "text": [
      "Collecting xgboost\n",
      "  Downloading xgboost-1.6.1-py3-none-macosx_10_15_x86_64.macosx_11_0_x86_64.macosx_12_0_x86_64.whl (1.7 MB)\n",
      "\u001b[K     |████████████████████████████████| 1.7 MB 21 kB/s  eta 0:00:01\n",
      "\u001b[?25hRequirement already satisfied: scipy in /usr/local/anaconda3/envs/datascience/lib/python3.8/site-packages (from xgboost) (1.7.3)\n",
      "Requirement already satisfied: numpy in /usr/local/anaconda3/envs/datascience/lib/python3.8/site-packages (from xgboost) (1.21.5)\n",
      "Installing collected packages: xgboost\n",
      "Successfully installed xgboost-1.6.1\n"
     ]
    }
   ],
   "source": [
    "!pip install xgboost"
   ]
  },
  {
   "cell_type": "code",
   "execution_count": 19,
   "metadata": {},
   "outputs": [],
   "source": [
    "from xgboost import XGBClassifier"
   ]
  },
  {
   "cell_type": "code",
   "execution_count": 23,
   "metadata": {},
   "outputs": [],
   "source": [
    "xgb = XGBClassifier()\n",
    "clf = xgb.fit(X=X_train, y=y_train)"
   ]
  },
  {
   "cell_type": "markdown",
   "metadata": {},
   "source": [
    "### Predict Test data"
   ]
  },
  {
   "cell_type": "code",
   "execution_count": 26,
   "metadata": {},
   "outputs": [],
   "source": [
    "y_predict = xgb.predict(X_test)\n",
    "y_predict_proba = xgb.predict_proba(X_test)"
   ]
  },
  {
   "cell_type": "markdown",
   "metadata": {},
   "source": [
    "## Model Validation"
   ]
  },
  {
   "cell_type": "markdown",
   "metadata": {},
   "source": [
    "### Function to create a classification matrix"
   ]
  },
  {
   "cell_type": "code",
   "execution_count": 33,
   "metadata": {
    "colab": {},
    "colab_type": "code",
    "id": "EZ5ILeYDsLd5"
   },
   "outputs": [],
   "source": [
    "def classification_matrix(model, X_train, X_test, y_train, y_test):\n",
    "    predictions = model.predict(X_test)\n",
    "    conf_mtx = confusion_matrix(y_test,predictions)\n",
    "    f, axes = plt.subplots(ncols=2, figsize=(15, 5))\n",
    "    sns.heatmap(conf_mtx,annot=True,cmap='tab20c',cbar = False,fmt = \"g\",ax = axes[0])\n",
    "    axes[0].set_xlabel('Predicted labels')\n",
    "    axes[0].set_ylabel('True labels')\n",
    "    axes[0].set_title('Confusion Matrix'); \n",
    "    axes[0].xaxis.set_ticklabels(['Not Churn', 'Churn']);\n",
    "    axes[0].yaxis.set_ticklabels(['Not Churn', 'Churn']);\n",
    "\n",
    "    print(\"\\n Classification report : \\n {}\".format(classification_report(y_test,predictions)))\n",
    "\n",
    "    roc_auc = roc_auc_score(y_test,predictions) \n",
    "    print (\"Area under ROC curve : \",roc_auc,\"\\n\")\n",
    "\n",
    "    fpr, tpr,_ = roc_curve(y_test, predictions)\n",
    "    axes[1].plot(fpr,tpr,label= \"auc=\"+str(roc_auc));\n",
    "    axes[1].plot([0, 1], [0, 1], color='navy', lw=1, linestyle='--')\n",
    "    plt.xlim([0.0, 1.0])\n",
    "    plt.ylim([0.0, 1])\n",
    "    plt.xlabel('False Positive Rate')\n",
    "    plt.ylabel('True Positive Rate')\n",
    "    plt.title('Receiver operating characteristic')\n",
    "    plt.legend(loc=\"lower right\")"
   ]
  },
  {
   "cell_type": "code",
   "execution_count": 36,
   "metadata": {},
   "outputs": [
    {
     "name": "stdout",
     "output_type": "stream",
     "text": [
      "\n",
      " Classification report : \n",
      "               precision    recall  f1-score   support\n",
      "\n",
      "           0       0.87      0.95      0.91      2380\n",
      "           1       0.70      0.47      0.56       620\n",
      "\n",
      "    accuracy                           0.85      3000\n",
      "   macro avg       0.79      0.71      0.73      3000\n",
      "weighted avg       0.84      0.85      0.84      3000\n",
      "\n",
      "Area under ROC curve :  0.7072241799945784 \n",
      "\n"
     ]
    },
    {
     "data": {
      "image/png": "[encoded data removed]",
      "text/plain": [
       "<Figure size 1080x360 with 2 Axes>"
      ]
     },
     "metadata": {
      "needs_background": "light"
     },
     "output_type": "display_data"
    }
   ],
   "source": [
    "classification_matrix(clf, X_train, X_test, y_train, y_test)"
   ]
  },
  {
   "cell_type": "markdown",
   "metadata": {},
   "source": [
    "## Model Training and Feature Selection"
   ]
  },
  {
   "cell_type": "markdown",
   "metadata": {
    "colab_type": "text",
    "id": "5oo6V9-runJR"
   },
   "source": [
    "### Feature and Model Selection"
   ]
  },
  {
   "cell_type": "code",
   "execution_count": 37,
   "metadata": {
    "colab": {},
    "colab_type": "code",
    "id": "B6Fql3P4hUmM"
   },
   "outputs": [],
   "source": [
    "# Define model used\n",
    "from sklearn.ensemble import RandomForestClassifier,AdaBoostClassifier,BaggingClassifier,GradientBoostingClassifier\n",
    "from xgboost import XGBClassifier\n",
    "from sklearn.linear_model import LogisticRegression\n",
    "from sklearn.svm import SVC\n",
    "from sklearn.tree import DecisionTreeClassifier"
   ]
  },
  {
   "cell_type": "markdown",
   "metadata": {},
   "source": [
    "### Function to list important features"
   ]
  },
  {
   "cell_type": "code",
   "execution_count": 39,
   "metadata": {
    "colab": {},
    "colab_type": "code",
    "id": "QcE7BOTQ29g8"
   },
   "outputs": [],
   "source": [
    "def imp_df(column_names, importances):\n",
    "    df = pd.DataFrame({'feature': column_names,\n",
    "                       'feature_importance': importances}) \\\n",
    "           .sort_values('feature_importance', ascending = False) \\\n",
    "           .reset_index(drop = True)\n",
    "    return df"
   ]
  },
  {
   "cell_type": "code",
   "execution_count": 40,
   "metadata": {
    "colab": {},
    "colab_type": "code",
    "id": "0B45-N4-e2F0"
   },
   "outputs": [],
   "source": [
    "def feature_importance_df(model,FITUR,k,scale):\n",
    "    sns.set_context(\"paper\", font_scale=scale)\n",
    "    fitur_imp=pd.DataFrame({'fitur':FITUR,'importances':model.feature_importances_})\n",
    "    fitur_imp.sort_values(by='importances',ascending=False,inplace=True)\n",
    "    sns.barplot(x='importances',y='fitur',data=fitur_imp[0:k],orient='h')\n",
    "    plt.xlabel(\"Feature Importances\")\n",
    "    plt.ylabel(\"Feature\")\n",
    "    plt.show()"
   ]
  },
  {
   "cell_type": "code",
   "execution_count": 41,
   "metadata": {
    "colab": {},
    "colab_type": "code",
    "id": "j09EdBwklCu8"
   },
   "outputs": [],
   "source": [
    "def feature_importance_accuracy(model, thresholds, X_train, X_test, y_train, y_test, model_test='XGBClassifier'):\n",
    "    for thresh in thresholds:\n",
    "        # select features using threshold\n",
    "        selection = SelectFromModel(model, threshold=thresh, prefit=True)\n",
    "        select_X_train = selection.transform(X_train)\n",
    "        # train model\n",
    "\n",
    "        if (model_test=='XGBClassifier'):\n",
    "          selectionmodel=XGBClassifier()\n",
    "        elif (model_test=='LogisticRegression'):\n",
    "          selectionmodel = LogisticRegression(random_state = 123)\n",
    "        elif (model_test=='DecisionTreeClassifier'):\n",
    "          selectionmodel = DecisionTreeClassifier(random_state=123)\n",
    "        elif (model_test=='RandomForestClassifier'):\n",
    "          selectionmodel = RandomForestClassifier()\n",
    "        elif (model_test=='AdaBoostClassifier'):\n",
    "          selectionmodel = AdaBoostClassifier()\n",
    "        elif (model_test=='GradientBoostingClassifier'):\n",
    "          selectionmodel = GradientBoostingClassifier()\n",
    "        elif (model_test=='BaggingClassifier'):\n",
    "          selectionmodel = BaggingClassifier()\n",
    "        else:\n",
    "          selectionmodel= XGBClassifier()\n",
    "\n",
    "\n",
    "        selectionmodel.fit(select_X_train, y_train)\n",
    "        # eval model\n",
    "        select_X_test = selection.transform(X_test)\n",
    "        y_pred = selectionmodel.predict(select_X_test)\n",
    "        predictions = [round(value) for value in y_pred]\n",
    "        accuracy = accuracy_score(y_test, predictions)\n",
    "        recall = recall_score(y_test, predictions)\n",
    "        roc_auc = roc_auc_score(y_test, predictions)\n",
    "        print(\"Thresh=%.3f, n=%d, Accuracy: %.2f%%, Sensitivity: %.2f%%, ROC AUC: %.2f%%\" % (thresh, select_X_train.shape[1], accuracy*100.0, recall*100.0, roc_auc*100.0))"
   ]
  },
  {
   "cell_type": "markdown",
   "metadata": {
    "colab_type": "text",
    "id": "rhFNYS3IxOeN"
   },
   "source": [
    "#### Feature Selection XGB\n"
   ]
  },
  {
   "cell_type": "code",
   "execution_count": 42,
   "metadata": {
    "colab": {
     "base_uri": "https://localhost:8080/",
     "height": 218
    },
    "colab_type": "code",
    "executionInfo": {
     "elapsed": 14057,
     "status": "ok",
     "timestamp": 1579439746810,
     "user": {
      "displayName": "Randy Galawana",
      "photoUrl": "https://lh3.googleusercontent.com/a-/AAuE7mDKVh_qF5wUtXi8QCU70K2Uylay-BBVbM8owGHoJw=s64",
      "userId": "05336196181261096487"
     },
     "user_tz": -420
    },
    "id": "N6rEs3DtlUKY",
    "outputId": "26d6ca3b-9475-49b9-d558-b425a5cef673"
   },
   "outputs": [
    {
     "name": "stdout",
     "output_type": "stream",
     "text": [
      "Thresh=0.032, n=12, Accuracy: 84.87%, Sensitivity: 46.61%, ROC AUC: 70.72%\n",
      "Thresh=0.033, n=11, Accuracy: 84.73%, Sensitivity: 45.97%, ROC AUC: 70.40%\n",
      "Thresh=0.036, n=10, Accuracy: 84.83%, Sensitivity: 47.10%, ROC AUC: 70.88%\n",
      "Thresh=0.038, n=9, Accuracy: 84.93%, Sensitivity: 47.26%, ROC AUC: 71.00%\n",
      "Thresh=0.039, n=8, Accuracy: 84.50%, Sensitivity: 46.94%, ROC AUC: 70.61%\n",
      "Thresh=0.040, n=7, Accuracy: 84.87%, Sensitivity: 47.74%, ROC AUC: 71.14%\n",
      "Thresh=0.051, n=6, Accuracy: 84.50%, Sensitivity: 47.58%, ROC AUC: 70.85%\n",
      "Thresh=0.053, n=5, Accuracy: 85.10%, Sensitivity: 49.03%, ROC AUC: 71.76%\n",
      "Thresh=0.111, n=4, Accuracy: 85.03%, Sensitivity: 43.23%, ROC AUC: 69.58%\n",
      "Thresh=0.121, n=3, Accuracy: 81.87%, Sensitivity: 29.68%, ROC AUC: 62.57%\n",
      "Thresh=0.152, n=2, Accuracy: 81.40%, Sensitivity: 11.45%, ROC AUC: 55.54%\n",
      "Thresh=0.294, n=1, Accuracy: 81.40%, Sensitivity: 11.45%, ROC AUC: 55.54%\n"
     ]
    }
   ],
   "source": [
    "# Feature Selection MOdel\n",
    "xgb = XGBClassifier()\n",
    "xgb.fit(X_train,y_train)\n",
    "xgb_threshold = np.sort(xgb.feature_importances_)\n",
    "\n",
    "feature_importance_accuracy(xgb, xgb_threshold, X_train, X_test, y_train, y_test,'XGBClassifier')"
   ]
  },
  {
   "cell_type": "markdown",
   "metadata": {
    "colab_type": "text",
    "id": "2Atp_ghS1Gux"
   },
   "source": [
    "* Best overal score for feature using XGB in XGB model is 5 fitur with Accuracy 85.1%, Recall 49.03% and ROC AUC 71.76%"
   ]
  },
  {
   "cell_type": "code",
   "execution_count": 43,
   "metadata": {
    "colab": {
     "base_uri": "https://localhost:8080/",
     "height": 288
    },
    "colab_type": "code",
    "executionInfo": {
     "elapsed": 14042,
     "status": "ok",
     "timestamp": 1579439746812,
     "user": {
      "displayName": "Randy Galawana",
      "photoUrl": "https://lh3.googleusercontent.com/a-/AAuE7mDKVh_qF5wUtXi8QCU70K2Uylay-BBVbM8owGHoJw=s64",
      "userId": "05336196181261096487"
     },
     "user_tz": -420
    },
    "id": "BMYRab-V1GMG",
    "outputId": "1cf9fcaf-62df-49fa-e40b-2572121269b8"
   },
   "outputs": [
    {
     "data": {
      "image/png": "[encoded data removed]",
      "text/plain": [
       "<Figure size 720x288 with 1 Axes>"
      ]
     },
     "metadata": {
      "needs_background": "light"
     },
     "output_type": "display_data"
    }
   ],
   "source": [
    "plt.figure(figsize=(10,4))\n",
    "feature_importance_df(xgb,list(X),5,1.5)"
   ]
  },
  {
   "cell_type": "code",
   "execution_count": 44,
   "metadata": {
    "colab": {
     "base_uri": "https://localhost:8080/",
     "height": 168
    },
    "colab_type": "code",
    "executionInfo": {
     "elapsed": 14018,
     "status": "ok",
     "timestamp": 1579439746813,
     "user": {
      "displayName": "Randy Galawana",
      "photoUrl": "https://lh3.googleusercontent.com/a-/AAuE7mDKVh_qF5wUtXi8QCU70K2Uylay-BBVbM8owGHoJw=s64",
      "userId": "05336196181261096487"
     },
     "user_tz": -420
    },
    "id": "7oEQX4zh1F6f",
    "outputId": "0de7468e-143d-46c4-d4fd-1a654e0c811c",
    "scrolled": true
   },
   "outputs": [
    {
     "data": {
      "text/plain": [
       "0        NumOfProducts\n",
       "1       IsActiveMember\n",
       "2    Geography_Germany\n",
       "3                  Age\n",
       "4              Balance\n",
       "Name: feature, dtype: object"
      ]
     },
     "execution_count": 44,
     "metadata": {},
     "output_type": "execute_result"
    }
   ],
   "source": [
    "xgb_feature=imp_df(X.columns,xgb.feature_importances_)[0:5]['feature']\n",
    "xgb_feature"
   ]
  },
  {
   "cell_type": "markdown",
   "metadata": {
    "colab_type": "text",
    "id": "pPm4VoRlQn79"
   },
   "source": [
    "#### Feature selection with RandomForest"
   ]
  },
  {
   "cell_type": "code",
   "execution_count": 45,
   "metadata": {
    "colab": {
     "base_uri": "https://localhost:8080/",
     "height": 218
    },
    "colab_type": "code",
    "executionInfo": {
     "elapsed": 26941,
     "status": "ok",
     "timestamp": 1579439759755,
     "user": {
      "displayName": "Randy Galawana",
      "photoUrl": "https://lh3.googleusercontent.com/a-/AAuE7mDKVh_qF5wUtXi8QCU70K2Uylay-BBVbM8owGHoJw=s64",
      "userId": "05336196181261096487"
     },
     "user_tz": -420
    },
    "id": "cXS0m-L3QtR4",
    "outputId": "44e994f6-eb5b-4c00-d3fc-2aeb413c86f0"
   },
   "outputs": [
    {
     "name": "stdout",
     "output_type": "stream",
     "text": [
      "Thresh=0.010, n=12, Accuracy: 85.33%, Sensitivity: 43.39%, ROC AUC: 69.82%\n",
      "Thresh=0.010, n=11, Accuracy: 85.87%, Sensitivity: 46.13%, ROC AUC: 71.17%\n",
      "Thresh=0.018, n=10, Accuracy: 85.80%, Sensitivity: 46.29%, ROC AUC: 71.19%\n",
      "Thresh=0.019, n=9, Accuracy: 85.33%, Sensitivity: 44.84%, ROC AUC: 70.36%\n",
      "Thresh=0.026, n=8, Accuracy: 85.60%, Sensitivity: 45.48%, ROC AUC: 70.77%\n",
      "Thresh=0.042, n=7, Accuracy: 85.23%, Sensitivity: 42.90%, ROC AUC: 69.58%\n",
      "Thresh=0.082, n=6, Accuracy: 83.40%, Sensitivity: 39.19%, ROC AUC: 67.05%\n",
      "Thresh=0.129, n=5, Accuracy: 82.83%, Sensitivity: 39.19%, ROC AUC: 66.70%\n",
      "Thresh=0.139, n=4, Accuracy: 79.20%, Sensitivity: 25.65%, ROC AUC: 59.40%\n",
      "Thresh=0.143, n=3, Accuracy: 79.00%, Sensitivity: 27.10%, ROC AUC: 59.81%\n",
      "Thresh=0.143, n=2, Accuracy: 74.50%, Sensitivity: 32.42%, ROC AUC: 58.94%\n",
      "Thresh=0.238, n=1, Accuracy: 79.93%, Sensitivity: 17.26%, ROC AUC: 56.76%\n"
     ]
    }
   ],
   "source": [
    "rf = RandomForestClassifier()\n",
    "rf.fit(X_train, y_train)\n",
    "rf_threshold = np.sort(rf.feature_importances_)\n",
    "feature_importance_accuracy(rf, rf_threshold, X_train, X_test, y_train, y_test,'RandomForestClassifier')"
   ]
  },
  {
   "cell_type": "markdown",
   "metadata": {
    "colab_type": "text",
    "id": "9Fj7URXo4eKK"
   },
   "source": [
    "* Best overal score for feature using RF in RF model is 10 fitur with Accuracy 85.8%, Recall 46.29% and ROC AUC 71.19%"
   ]
  },
  {
   "cell_type": "code",
   "execution_count": 46,
   "metadata": {
    "colab": {
     "base_uri": "https://localhost:8080/",
     "height": 288
    },
    "colab_type": "code",
    "executionInfo": {
     "elapsed": 26921,
     "status": "ok",
     "timestamp": 1579439759756,
     "user": {
      "displayName": "Randy Galawana",
      "photoUrl": "https://lh3.googleusercontent.com/a-/AAuE7mDKVh_qF5wUtXi8QCU70K2Uylay-BBVbM8owGHoJw=s64",
      "userId": "05336196181261096487"
     },
     "user_tz": -420
    },
    "id": "fn6P_mSMpQb6",
    "outputId": "29a7d0fc-26e0-41c2-f2f5-76c920cfc48a"
   },
   "outputs": [
    {
     "data": {
      "image/png": "[encoded data removed]",
      "text/plain": [
       "<Figure size 720x288 with 1 Axes>"
      ]
     },
     "metadata": {
      "needs_background": "light"
     },
     "output_type": "display_data"
    }
   ],
   "source": [
    "plt.figure(figsize=(10,4))\n",
    "feature_importance_df(rf, list(X),10,1.5)"
   ]
  },
  {
   "cell_type": "code",
   "execution_count": 47,
   "metadata": {
    "colab": {
     "base_uri": "https://localhost:8080/",
     "height": 168
    },
    "colab_type": "code",
    "executionInfo": {
     "elapsed": 26900,
     "status": "ok",
     "timestamp": 1579439759757,
     "user": {
      "displayName": "Randy Galawana",
      "photoUrl": "https://lh3.googleusercontent.com/a-/AAuE7mDKVh_qF5wUtXi8QCU70K2Uylay-BBVbM8owGHoJw=s64",
      "userId": "05336196181261096487"
     },
     "user_tz": -420
    },
    "id": "1Zxd7ZDf4vCI",
    "outputId": "ea601c3c-7acb-4a05-82ae-1cf1419f33db"
   },
   "outputs": [
    {
     "data": {
      "text/plain": [
       "0                  Age\n",
       "1          CreditScore\n",
       "2      EstimatedSalary\n",
       "3              Balance\n",
       "4        NumOfProducts\n",
       "5               Tenure\n",
       "6       IsActiveMember\n",
       "7    Geography_Germany\n",
       "8        Gender_Female\n",
       "9            HasCrCard\n",
       "Name: feature, dtype: object"
      ]
     },
     "execution_count": 47,
     "metadata": {},
     "output_type": "execute_result"
    }
   ],
   "source": [
    "rf_feature=imp_df(X.columns, rf.feature_importances_)[0:10]['feature']\n",
    "rf_feature"
   ]
  },
  {
   "cell_type": "markdown",
   "metadata": {
    "colab_type": "text",
    "id": "RIKEH3pd48_Q"
   },
   "source": [
    "Feature with XGB is slightly better than feature using RF classifier"
   ]
  },
  {
   "cell_type": "markdown",
   "metadata": {
    "colab_type": "text",
    "id": "Swmt7LW75GTb"
   },
   "source": [
    "### Function to Compare between Model Score validation"
   ]
  },
  {
   "cell_type": "code",
   "execution_count": 48,
   "metadata": {
    "colab": {},
    "colab_type": "code",
    "id": "jVxBBo7i5Fgw"
   },
   "outputs": [],
   "source": [
    "def modeling(x,y):\n",
    "    from sklearn.model_selection import StratifiedKFold\n",
    "    ### DEFINE ALL MODEL used\n",
    "    #linear Model\n",
    "    logreg = LogisticRegression(random_state = 123)\n",
    "    # Tree\n",
    "    dt = DecisionTreeClassifier(random_state=123)\n",
    "    #Ensemble\n",
    "    randomforest = RandomForestClassifier()\n",
    "    ada = AdaBoostClassifier()\n",
    "    gdc = GradientBoostingClassifier()\n",
    "    bagging = BaggingClassifier()\n",
    "    xgbc= XGBClassifier()\n",
    "    classifiers = [logreg,dt,randomforest,bagging,ada,gdc, xgbc]\n",
    "    textlabel = ['Logistic Regression', 'Decision Tree', 'Random Forest', 'Bagging', 'AdaBoost', 'GradBoost', 'XGBoost']\n",
    "    model_list = zip(classifiers,textlabel)\n",
    "    for clf, label in model_list:\n",
    "        scores = cross_val_score(clf, x, y, cv=StratifiedKFold(n_splits=5, shuffle=True, random_state=123), scoring='roc_auc')\n",
    "        print(\"AUC of ROC : %0.4f (+/- %0.4f) [%s]\" \n",
    "              % (scores.mean(), scores.std(), label))"
   ]
  },
  {
   "cell_type": "markdown",
   "metadata": {
    "colab_type": "text",
    "id": "IvOGiWQG6YxZ"
   },
   "source": [
    "#### Model Selection using XGB Feature Importance"
   ]
  },
  {
   "cell_type": "code",
   "execution_count": 49,
   "metadata": {
    "colab": {
     "base_uri": "https://localhost:8080/",
     "height": 134
    },
    "colab_type": "code",
    "executionInfo": {
     "elapsed": 38814,
     "status": "ok",
     "timestamp": 1579439771701,
     "user": {
      "displayName": "Randy Galawana",
      "photoUrl": "https://lh3.googleusercontent.com/a-/AAuE7mDKVh_qF5wUtXi8QCU70K2Uylay-BBVbM8owGHoJw=s64",
      "userId": "05336196181261096487"
     },
     "user_tz": -420
    },
    "id": "OxzOskWovxU6",
    "outputId": "b2b808f7-8092-4da8-c3dd-088036a3b531"
   },
   "outputs": [
    {
     "name": "stdout",
     "output_type": "stream",
     "text": [
      "AUC of ROC : 0.3455 (+/- 0.1711) [Logistic Regression]\n",
      "AUC of ROC : 0.6897 (+/- 0.0183) [Decision Tree]\n",
      "AUC of ROC : 0.8168 (+/- 0.0097) [Random Forest]\n",
      "AUC of ROC : 0.7918 (+/- 0.0054) [Bagging]\n",
      "AUC of ROC : nan (+/- nan) [AdaBoost]\n",
      "AUC of ROC : 0.8650 (+/- 0.0117) [GradBoost]\n",
      "AUC of ROC : 0.8435 (+/- 0.0096) [XGBoost]\n"
     ]
    }
   ],
   "source": [
    "X_train_xgb=X_train[xgb_feature]\n",
    "modeling(X_train_xgb,y_train)"
   ]
  },
  {
   "cell_type": "markdown",
   "metadata": {
    "colab_type": "text",
    "id": "n2XgCE8g7Ye2"
   },
   "source": [
    "#### Model Selection using RF Feature Importance"
   ]
  },
  {
   "cell_type": "code",
   "execution_count": 50,
   "metadata": {
    "colab": {
     "base_uri": "https://localhost:8080/",
     "height": 134
    },
    "colab_type": "code",
    "executionInfo": {
     "elapsed": 51073,
     "status": "ok",
     "timestamp": 1579439783976,
     "user": {
      "displayName": "Randy Galawana",
      "photoUrl": "https://lh3.googleusercontent.com/a-/AAuE7mDKVh_qF5wUtXi8QCU70K2Uylay-BBVbM8owGHoJw=s64",
      "userId": "05336196181261096487"
     },
     "user_tz": -420
    },
    "id": "G8yHAgJolxdS",
    "outputId": "3421698f-6c6b-447a-8f4d-73ef24c592d0"
   },
   "outputs": [
    {
     "name": "stdout",
     "output_type": "stream",
     "text": [
      "AUC of ROC : 0.6718 (+/- 0.0092) [Logistic Regression]\n",
      "AUC of ROC : 0.6895 (+/- 0.0136) [Decision Tree]\n",
      "AUC of ROC : 0.8521 (+/- 0.0110) [Random Forest]\n",
      "AUC of ROC : 0.8172 (+/- 0.0170) [Bagging]\n",
      "AUC of ROC : nan (+/- nan) [AdaBoost]\n",
      "AUC of ROC : 0.8665 (+/- 0.0130) [GradBoost]\n",
      "AUC of ROC : 0.8438 (+/- 0.0123) [XGBoost]\n"
     ]
    }
   ],
   "source": [
    "X_train_rf=X_train[rf_feature]\n",
    "modeling(X_train_rf,y_train)"
   ]
  },
  {
   "cell_type": "markdown",
   "metadata": {
    "colab_type": "text",
    "id": "LTMqCpGM8fws"
   },
   "source": [
    "* Both RF and XGB feature is good on Gradboost and XGBoost model, so we will select Gradboost and XGBoost for further testing"
   ]
  },
  {
   "cell_type": "markdown",
   "metadata": {
    "colab_type": "text",
    "id": "io0vKWOh8j83"
   },
   "source": [
    "### Model Comparison"
   ]
  },
  {
   "cell_type": "code",
   "execution_count": 51,
   "metadata": {
    "colab": {},
    "colab_type": "code",
    "id": "zi1XaisBAKwG"
   },
   "outputs": [],
   "source": [
    "def matrix_clasifier(y_test,predictions):\n",
    "  conf_mtx = confusion_matrix(y_test,predictions)\n",
    "  f, axes = plt.subplots(ncols=2, figsize=(15, 5))\n",
    "  sns.heatmap(conf_mtx,annot=True,cmap='tab20c',cbar = False,fmt = \"g\",ax = axes[0])\n",
    "  axes[0].set_xlabel('Predicted labels')\n",
    "  axes[0].set_ylabel('True labels')\n",
    "  axes[0].set_title('Confusion Matrix'); \n",
    "  axes[0].xaxis.set_ticklabels(['Not Churn', 'Churn']);\n",
    "  axes[0].yaxis.set_ticklabels(['Not Churn', 'Churn']);\n",
    "\n",
    "  print(\"\\n Classification report : \\n {}\".format(classification_report(y_test,predictions)))\n",
    "\n",
    "  roc_auc = roc_auc_score(y_test,predictions) \n",
    "  accuracy = accuracy_score(y_test, predictions)\n",
    "  recall = recall_score(y_test, predictions)\n",
    "  print(\"Accuracy: %.2f%%, Sensitivity: %.2f%%, ROC AUC: %.2f%%\" % (accuracy*100.0, recall*100.0, roc_auc*100.0))\n",
    "\n",
    "  fpr, tpr,_ = roc_curve(y_test, predictions)\n",
    "  axes[1].plot(fpr,tpr,label= \"auc=\"+str(roc_auc));\n",
    "  axes[1].plot([0, 1], [0, 1], color='navy', lw=1, linestyle='--')\n",
    "  plt.xlim([0.0, 1.0])\n",
    "  plt.ylim([0.0, 1])\n",
    "  plt.xlabel('False Positive Rate')\n",
    "  plt.ylabel('True Positive Rate')\n",
    "  plt.title('Receiver operating characteristic')\n",
    "  plt.legend(loc=\"lower right\")"
   ]
  },
  {
   "cell_type": "markdown",
   "metadata": {
    "colab_type": "text",
    "id": "4cPlWJ6E8qU5"
   },
   "source": [
    "#### XGBoost"
   ]
  },
  {
   "cell_type": "code",
   "execution_count": 52,
   "metadata": {
    "colab": {
     "base_uri": "https://localhost:8080/",
     "height": 561
    },
    "colab_type": "code",
    "executionInfo": {
     "elapsed": 52162,
     "status": "ok",
     "timestamp": 1579439785092,
     "user": {
      "displayName": "Randy Galawana",
      "photoUrl": "https://lh3.googleusercontent.com/a-/AAuE7mDKVh_qF5wUtXi8QCU70K2Uylay-BBVbM8owGHoJw=s64",
      "userId": "05336196181261096487"
     },
     "user_tz": -420
    },
    "id": "_5dd4KSU8Oxj",
    "outputId": "3971ec2d-90b7-4010-e6e6-0013758a05be"
   },
   "outputs": [
    {
     "name": "stdout",
     "output_type": "stream",
     "text": [
      "\n",
      " Classification report : \n",
      "               precision    recall  f1-score   support\n",
      "\n",
      "           0       0.88      0.94      0.91      2380\n",
      "           1       0.70      0.49      0.58       620\n",
      "\n",
      "    accuracy                           0.85      3000\n",
      "   macro avg       0.79      0.72      0.74      3000\n",
      "weighted avg       0.84      0.85      0.84      3000\n",
      "\n",
      "Accuracy: 85.10%, Sensitivity: 49.03%, ROC AUC: 71.76%\n"
     ]
    },
    {
     "data": {
      "image/png": "[encoded data removed]",
      "text/plain": [
       "<Figure size 1080x360 with 2 Axes>"
      ]
     },
     "metadata": {
      "needs_background": "light"
     },
     "output_type": "display_data"
    }
   ],
   "source": [
    "model_xgb = XGBClassifier()\n",
    "model_xgb.fit(X_train_xgb, y_train)\n",
    "X_test_xgb=X_test[xgb_feature]\n",
    "predictions = model_xgb.predict(X_test_xgb)\n",
    "matrix_clasifier(y_test,predictions)"
   ]
  },
  {
   "cell_type": "markdown",
   "metadata": {
    "colab_type": "text",
    "id": "6Ie9fVjI_3gl"
   },
   "source": [
    "#### GradBoost"
   ]
  },
  {
   "cell_type": "code",
   "execution_count": 53,
   "metadata": {
    "colab": {
     "base_uri": "https://localhost:8080/",
     "height": 561
    },
    "colab_type": "code",
    "executionInfo": {
     "elapsed": 53415,
     "status": "ok",
     "timestamp": 1579439786366,
     "user": {
      "displayName": "Randy Galawana",
      "photoUrl": "https://lh3.googleusercontent.com/a-/AAuE7mDKVh_qF5wUtXi8QCU70K2Uylay-BBVbM8owGHoJw=s64",
      "userId": "05336196181261096487"
     },
     "user_tz": -420
    },
    "id": "CNAGyyya7qko",
    "outputId": "54faff2b-4e08-4876-ed4c-8bd1304221af"
   },
   "outputs": [
    {
     "name": "stdout",
     "output_type": "stream",
     "text": [
      "\n",
      " Classification report : \n",
      "               precision    recall  f1-score   support\n",
      "\n",
      "           0       0.87      0.96      0.91      2380\n",
      "           1       0.77      0.44      0.56       620\n",
      "\n",
      "    accuracy                           0.86      3000\n",
      "   macro avg       0.82      0.70      0.74      3000\n",
      "weighted avg       0.85      0.86      0.84      3000\n",
      "\n",
      "Accuracy: 85.70%, Sensitivity: 44.35%, ROC AUC: 70.41%\n"
     ]
    },
    {
     "data": {
      "image/png": "[encoded data removed]",
      "text/plain": [
       "<Figure size 1080x360 with 2 Axes>"
      ]
     },
     "metadata": {
      "needs_background": "light"
     },
     "output_type": "display_data"
    }
   ],
   "source": [
    "model_grb = GradientBoostingClassifier()\n",
    "\n",
    "model_grb.fit(X_train_xgb, y_train)\n",
    "X_test_grb=X_test[xgb_feature]\n",
    "predictions_grb = model_grb.predict(X_test_xgb)\n",
    "matrix_clasifier(y_test, predictions_grb)"
   ]
  },
  {
   "cell_type": "markdown",
   "metadata": {
    "colab_type": "text",
    "id": "U_Y7VK6TBL-n"
   },
   "source": [
    "* Gradient Boosting slighty better than XGBoost"
   ]
  },
  {
   "cell_type": "markdown",
   "metadata": {},
   "source": [
    "### Model Export / Packing"
   ]
  },
  {
   "cell_type": "code",
   "execution_count": 55,
   "metadata": {
    "colab": {},
    "colab_type": "code",
    "id": "nVwmO0aqdPyJ"
   },
   "outputs": [],
   "source": [
    "import pickle\n",
    "\n",
    "model_columns=list(X_test_grb.columns)\n",
    "column_filename = 'columns.pkl'\n",
    "pickle.dump(model_columns, open(column_filename, 'wb'))"
   ]
  },
  {
   "cell_type": "code",
   "execution_count": 56,
   "metadata": {
    "colab": {},
    "colab_type": "code",
    "id": "t72v84kPflOP"
   },
   "outputs": [],
   "source": [
    "filename = 'Gradboostpickle.pkl'\n",
    "pickle.dump(model_grb, open(filename, 'wb'))"
   ]
  }
 ],
 "metadata": {
  "colab": {
   "collapsed_sections": [],
   "name": "ChurnModeling_DSA.ipynb",
   "provenance": [
    {
     "file_id": "1Fusxo7OObqFQhbKw_lMVhPjjbrYYTzLs",
     "timestamp": 1579094705617
    }
   ]
  },
  "kernelspec": {
   "display_name": "Python 3 (ipykernel)",
   "language": "python",
   "name": "python3"
  },
  "language_info": {
   "codemirror_mode": {
    "name": "ipython",
    "version": 3
   },
   "file_extension": ".py",
   "mimetype": "text/x-python",
   "name": "python",
   "nbconvert_exporter": "python",
   "pygments_lexer": "ipython3",
   "version": "3.8.13"
  }
 },
 "nbformat": 4,
 "nbformat_minor": 1
}
