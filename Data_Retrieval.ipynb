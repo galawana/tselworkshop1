{
 "cells": [
  {
   "cell_type": "markdown",
   "metadata": {},
   "source": [
    "# Data Retrieval using Pandas\n",
    "### Data Science Pipeline Workshop 11 Juni 2022\n",
    "- Author : Randy Galawana\n",
    "- Email  : randy_galawana1@telkomsel.co.id\n",
    "&copy; Telkomsel 2022"
   ]
  },
  {
   "cell_type": "code",
   "execution_count": null,
   "metadata": {},
   "outputs": [],
   "source": [
    "import pandas as pd\n",
    "from sqlalchemy import create_engine\n",
    "import requests\n",
    "import yaml"
   ]
  },
  {
   "cell_type": "markdown",
   "metadata": {},
   "source": [
    "### Retrieve data using URL to File / path to file"
   ]
  },
  {
   "cell_type": "code",
   "execution_count": null,
   "metadata": {},
   "outputs": [],
   "source": [
    "url = 'https://datasets.imdbws.com/title.ratings.tsv.gz'\n",
    "df = pd.read_csv(url, sep=\"\\t\", header=0)\n",
    "df.head()"
   ]
  },
  {
   "cell_type": "markdown",
   "metadata": {},
   "source": [
    "### Retrieve data using excel file"
   ]
  },
  {
   "cell_type": "code",
   "execution_count": null,
   "metadata": {},
   "outputs": [],
   "source": [
    "df = pd.read_excel(\"https://raw.githubusercontent.com/galawana/tselworkshop1/main/data/movies.xls\")\n",
    "df.head()"
   ]
  },
  {
   "cell_type": "markdown",
   "metadata": {},
   "source": [
    "### Retrieve data using Json\n",
    "from movie dataset with json formats"
   ]
  },
  {
   "cell_type": "code",
   "execution_count": null,
   "metadata": {},
   "outputs": [],
   "source": [
    "df = pd.read_json(\"https://raw.githubusercontent.com/galawana/tselworkshop1/main/data/movies.json\", orient=\"records\")\n",
    "df.sample(4)"
   ]
  },
  {
   "cell_type": "markdown",
   "metadata": {},
   "source": [
    "### Retrieve data nested JSON\n",
    "{\n",
    "    \"school_name\": \"ABC primary school\",\n",
    "    \"class\": \"Year 1\",\n",
    "    \"students\": [\n",
    "    {\n",
    "        \"id\": \"A001\",\n",
    "        \"name\": \"Tom\",\n",
    "        \"math\": 60,\n",
    "        \"physics\": 66,\n",
    "        \"chemistry\": 61\n",
    "    },\n",
    "    ,,,\n",
    "  ]\n",
    "}"
   ]
  },
  {
   "cell_type": "code",
   "execution_count": null,
   "metadata": {},
   "outputs": [],
   "source": [
    "df = pd.read_json('https://raw.githubusercontent.com/galawana/tselworkshop1/main/data/simple.json')\n",
    "df.head()"
   ]
  },
  {
   "cell_type": "code",
   "execution_count": null,
   "metadata": {},
   "outputs": [],
   "source": [
    "# to flatten the nested json we use pd.json_normalize\n",
    "import json\n",
    "\n",
    "url = 'https://raw.githubusercontent.com/galawana/tselworkshop1/main/data/simple.json'\n",
    "json_file = requests.get(url)\n",
    "\n",
    "data = json.loads(json_file.text)\n",
    "\n",
    "df = pd.json_normalize(\n",
    "    data, \n",
    "    record_path =['students'], \n",
    "    meta=['school_name', 'class']\n",
    ")\n",
    "\n",
    "df.head()"
   ]
  },
  {
   "cell_type": "markdown",
   "metadata": {},
   "source": [
    "### Retrieve data using Parquet File"
   ]
  },
  {
   "cell_type": "code",
   "execution_count": null,
   "metadata": {},
   "outputs": [],
   "source": [
    "!pip install pyarrow==6.0.1"
   ]
  },
  {
   "cell_type": "code",
   "execution_count": null,
   "metadata": {},
   "outputs": [],
   "source": [
    "df = pd.read_parquet(\"https://raw.githubusercontent.com/galawana/tselworkshop1/main/data/movies.parquet\", engine=\"pyarrow\")\n",
    "df.tail(5)"
   ]
  },
  {
   "cell_type": "markdown",
   "metadata": {},
   "source": [
    "### Retrieve data using SQL\n",
    "Use Case using AirBNB opendata from http://insideairbnb.com/get-the-data/ Singapore Data captured on 28 March 2022 with tables as follow\n",
    "- airbnb_sg_listings : detail listings of rooms/property\n",
    "- airbnb_sg_listings_summary : summary of listings\n",
    "- airbnb_sg_calendar : detail of listings calendar and avaibility\n",
    "- airbnb_sg_reviews : detail of review of listings"
   ]
  },
  {
   "cell_type": "code",
   "execution_count": null,
   "metadata": {},
   "outputs": [],
   "source": [
    "# Load credentials from credentials.yml shared by mentor\n",
    "with open('credentials.yml', 'r') as f:\n",
    "    credentials = yaml.safe_load(f)['mysql']"
   ]
  },
  {
   "cell_type": "code",
   "execution_count": null,
   "metadata": {},
   "outputs": [],
   "source": [
    "!pip install mysqlclient==2.1.0"
   ]
  },
  {
   "cell_type": "code",
   "execution_count": null,
   "metadata": {},
   "outputs": [],
   "source": [
    "# create sqlalchemy engine\n",
    "db_engine = create_engine('mysql://{user}:{password}@{host}:{port}/{database}'.format(**credentials))"
   ]
  },
  {
   "cell_type": "code",
   "execution_count": null,
   "metadata": {},
   "outputs": [],
   "source": [
    "## use case 1 : select all listings with ratio of beds per bedrooms less than 2\n",
    "\n",
    "query = \"\"\"select * from airbnb_sg_listings where beds/bedrooms < 2\"\"\"\n",
    "df = pd.read_sql(query, db_engine)\n",
    "df.count()"
   ]
  },
  {
   "cell_type": "code",
   "execution_count": null,
   "metadata": {},
   "outputs": [],
   "source": [
    "df[['id', 'beds', 'bedrooms', 'reviews_per_month']]"
   ]
  },
  {
   "cell_type": "code",
   "execution_count": null,
   "metadata": {},
   "outputs": [],
   "source": [
    "## Use Case 2 : get all listing which already booked on April 2022\n",
    "\n",
    "query = \"\"\"\n",
    "select asls.*\n",
    "from airbnb_sg_listings_summary asls\n",
    "join \n",
    "(\n",
    "\tselect listing_id \n",
    "\tfrom airbnb_sg_calendar \n",
    "\twhere date between '2022-04-01' and '2022-04-30' \n",
    "\tand available = 'f'\n",
    "\tgroup by listing_id \n",
    ") asc2 \n",
    "on asls.id = asc2.listing_id\n",
    "\"\"\"\n",
    "df = pd.read_sql(query, db_engine)\n",
    "df.count()"
   ]
  },
  {
   "cell_type": "code",
   "execution_count": null,
   "metadata": {},
   "outputs": [],
   "source": [
    "## Use Case 3 : get count of listing that have num review > 4 and has at least 2 bookings in April 2022\n",
    "\n",
    "query = \"\"\"\n",
    "select asls.*\n",
    "from airbnb_sg_listings_summary asls\n",
    "join \n",
    "(\n",
    "\tselect listing_id, count(1) as booking\n",
    "\tfrom airbnb_sg_calendar \n",
    "\twhere date between '2022-04-01' and '2022-04-30' \n",
    "\tand available = 'f'\n",
    "\tgroup by listing_id \n",
    ") asc2 \n",
    "on asls.id = asc2.listing_id\n",
    "join \n",
    "(\n",
    "\tselect listing_id, count(1) as review\n",
    "\tfrom airbnb_sg_reviews\n",
    "\tgroup by listing_id\n",
    ") asr\n",
    "on asls.id = asr.listing_id\n",
    "where asc2.booking >= 2 and asr.review > 4\n",
    "\"\"\"\n",
    "df = pd.read_sql(query, db_engine)\n",
    "df.count()"
   ]
  },
  {
   "cell_type": "markdown",
   "metadata": {},
   "source": [
    "### Retrieve data using API Endpoint\n",
    "\n",
    "we use covid 19 open data\n"
   ]
  },
  {
   "cell_type": "code",
   "execution_count": null,
   "metadata": {},
   "outputs": [],
   "source": [
    "## get data from API covid19\n",
    "url = 'https://api.covid19api.com/summary'\n",
    "resp = requests.get(url)\n",
    "if resp.ok:\n",
    "    data = resp.json()\n"
   ]
  },
  {
   "cell_type": "code",
   "execution_count": null,
   "metadata": {},
   "outputs": [],
   "source": [
    "for key in data.keys():\n",
    "    print(f'key {key} in json data type is {type(data[key])}')"
   ]
  },
  {
   "cell_type": "code",
   "execution_count": null,
   "metadata": {},
   "outputs": [],
   "source": [
    "# keys countries consist of list data type \n",
    "df = pd.DataFrame(data[\"Countries\"])\n",
    "df.head()"
   ]
  },
  {
   "cell_type": "code",
   "execution_count": null,
   "metadata": {},
   "outputs": [],
   "source": [
    "# global data \n",
    "data['Global']"
   ]
  },
  {
   "cell_type": "code",
   "execution_count": null,
   "metadata": {},
   "outputs": [],
   "source": []
  }
 ],
 "metadata": {
  "kernelspec": {
   "display_name": "Python 3 (ipykernel)",
   "language": "python",
   "name": "python3"
  },
  "language_info": {
   "codemirror_mode": {
    "name": "ipython",
    "version": 3
   },
   "file_extension": ".py",
   "mimetype": "text/x-python",
   "name": "python",
   "nbconvert_exporter": "python",
   "pygments_lexer": "ipython3",
   "version": "3.8.13"
  }
 },
 "nbformat": 4,
 "nbformat_minor": 4
}
