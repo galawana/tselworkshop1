{
 "cells": [
  {
   "cell_type": "markdown",
   "metadata": {},
   "source": [
    "# Data Cleaning using Pandas\n",
    "### Data Science Pipeline Workshop 11 Juni 2022\n",
    "- Author : Randy Galawana\n",
    "- Email  : randy_galawana1@telkomsel.co.id\n",
    "&copy; Telkomsel 2022"
   ]
  },
  {
   "cell_type": "code",
   "execution_count": null,
   "metadata": {},
   "outputs": [],
   "source": [
    "import warnings\n",
    "warnings.simplefilter(action='ignore', category=FutureWarning)\n",
    "\n",
    "import pandas as pd"
   ]
  },
  {
   "cell_type": "code",
   "execution_count": null,
   "metadata": {},
   "outputs": [],
   "source": [
    "df = pd.read_csv(\"data/employee.csv\")"
   ]
  },
  {
   "cell_type": "code",
   "execution_count": null,
   "metadata": {},
   "outputs": [],
   "source": [
    "## cast to save memory \n",
    "df['gender'] = df['gender'].astype('category')\n",
    "df['employment_status'] = df['employment_status'].astype('category')\n",
    "df['birth_date'] = df['birth_date'].astype('datetime64')\n"
   ]
  },
  {
   "cell_type": "code",
   "execution_count": null,
   "metadata": {},
   "outputs": [],
   "source": [
    "df.head()"
   ]
  },
  {
   "cell_type": "markdown",
   "metadata": {},
   "source": [
    "### Check Statistics"
   ]
  },
  {
   "cell_type": "code",
   "execution_count": null,
   "metadata": {},
   "outputs": [],
   "source": [
    "df.info()"
   ]
  },
  {
   "cell_type": "code",
   "execution_count": null,
   "metadata": {},
   "outputs": [],
   "source": [
    "df.describe(include='all', datetime_is_numeric=True)"
   ]
  },
  {
   "cell_type": "markdown",
   "metadata": {},
   "source": [
    "## Handling Missing Values / NA / Null / None"
   ]
  },
  {
   "cell_type": "code",
   "execution_count": null,
   "metadata": {},
   "outputs": [],
   "source": [
    "## to count the number of null / na / none values \n",
    "df.isnull().sum()"
   ]
  },
  {
   "cell_type": "code",
   "execution_count": null,
   "metadata": {},
   "outputs": [],
   "source": [
    "count_missing = df.isnull().sum()\n",
    "missing = count_missing[count_missing>0]\n",
    "df[missing.index].info()"
   ]
  },
  {
   "cell_type": "markdown",
   "metadata": {},
   "source": [
    "### Drop Missing Features if to much missing values in it"
   ]
  },
  {
   "cell_type": "code",
   "execution_count": null,
   "metadata": {},
   "outputs": [],
   "source": [
    "## filter columns with missing value more than 60%\n",
    "missing[missing>df.shape[0]*0.6]"
   ]
  },
  {
   "cell_type": "code",
   "execution_count": null,
   "metadata": {},
   "outputs": [],
   "source": [
    "df = df.drop(labels='tax_file_no', axis=1)\n",
    "print(df.shape)\n",
    "df.head()"
   ]
  },
  {
   "cell_type": "markdown",
   "metadata": {},
   "source": [
    "### Drop Row if there is too much missing features"
   ]
  },
  {
   "cell_type": "code",
   "execution_count": null,
   "metadata": {},
   "outputs": [],
   "source": [
    "# drop any rows that have less than 2 elements.\n",
    "df_new = df.dropna(axis='index', thresh=2, inplace=False)\n",
    "print(df_new.shape)"
   ]
  },
  {
   "cell_type": "code",
   "execution_count": null,
   "metadata": {},
   "outputs": [],
   "source": [
    "# Check what rows is removed\n",
    "rows_removed = df[~df.index.isin(df_new.index)]\n",
    "rows_removed"
   ]
  },
  {
   "cell_type": "code",
   "execution_count": null,
   "metadata": {},
   "outputs": [],
   "source": [
    "df.dropna(axis='index', thresh=2, inplace=True)\n",
    "df.info()"
   ]
  },
  {
   "cell_type": "markdown",
   "metadata": {},
   "source": [
    "### Filling Missing Value/ Imputers"
   ]
  },
  {
   "cell_type": "markdown",
   "metadata": {},
   "source": [
    "#### Simple Imputers : Filling with New Catagory"
   ]
  },
  {
   "cell_type": "code",
   "execution_count": null,
   "metadata": {},
   "outputs": [],
   "source": [
    "# Fill with simple value (simple Imputers)\n",
    "# Set a default category for missing genders `U` (Undefined/Unknown)\n",
    "\n",
    "df['gender'].cat.add_categories(new_categories=['U'], inplace=True)\n",
    "df.fillna(value={'gender': 'U'}, inplace=True)\n",
    "print(df.info())"
   ]
  },
  {
   "cell_type": "markdown",
   "metadata": {},
   "source": [
    "#### Simple Imputers (2) : Filling with Constant Value"
   ]
  },
  {
   "cell_type": "code",
   "execution_count": null,
   "metadata": {},
   "outputs": [],
   "source": [
    "df2 = pd.read_excel(\"data/movies.xls\")"
   ]
  },
  {
   "cell_type": "code",
   "execution_count": null,
   "metadata": {},
   "outputs": [],
   "source": [
    "count_missing = df2.isnull().sum()\n",
    "missing = count_missing[count_missing>0]\n",
    "df2[missing.index].info()"
   ]
  },
  {
   "cell_type": "code",
   "execution_count": null,
   "metadata": {},
   "outputs": [],
   "source": [
    "df2.fillna(value={'Reviews by Crtiics': 0}, inplace=True)"
   ]
  },
  {
   "cell_type": "markdown",
   "metadata": {},
   "source": [
    "#### Imputers with Mean, Median and Mode values"
   ]
  },
  {
   "cell_type": "code",
   "execution_count": null,
   "metadata": {},
   "outputs": [],
   "source": [
    "df2[missing.index].describe()"
   ]
  },
  {
   "cell_type": "code",
   "execution_count": null,
   "metadata": {},
   "outputs": [],
   "source": [
    "### Check Statistic for Budget, Gross Earnings and Aspect Ratio\n",
    "import matplotlib.pyplot as plt\n",
    "\n",
    "plt.figure(figsize=[10,4])\n",
    "plt.subplot(1,3,1)\n",
    "plt.hist(df2['Budget'],color=\"red\")\n",
    "plt.title('Budget')\n",
    "plt.subplot(1,3,2)\n",
    "plt.hist(df2['Gross Earnings'],color=\"skyblue\")\n",
    "plt.title('Gross Earnings')\n",
    "plt.subplot(1,3,3)\n",
    "plt.hist(df2['Aspect Ratio'],color=\"darkgreen\")\n",
    "plt.title('Aspect Ratio')\n",
    "\n",
    "plt.tight_layout()\n",
    "plt.show()\n"
   ]
  },
  {
   "cell_type": "code",
   "execution_count": null,
   "metadata": {},
   "outputs": [],
   "source": [
    "# Budget and Gross Earnings data nya Skew, best approach menggunakan Median\n",
    "median = df2[['Budget','Gross Earnings']].median()\n",
    "median"
   ]
  },
  {
   "cell_type": "code",
   "execution_count": null,
   "metadata": {},
   "outputs": [],
   "source": [
    "df2[['Budget','Gross Earnings']] = df2[['Budget','Gross Earnings']].fillna(median,axis=0)"
   ]
  },
  {
   "cell_type": "markdown",
   "metadata": {},
   "source": [
    "##### Walaupun Aspect Ratio sedikit skew, namun kita bisa coba menggunakan mean values"
   ]
  },
  {
   "cell_type": "code",
   "execution_count": null,
   "metadata": {},
   "outputs": [],
   "source": [
    "df2['Aspect Ratio'] = df2['Aspect Ratio'].fillna(df2['Aspect Ratio'].mean())"
   ]
  },
  {
   "cell_type": "code",
   "execution_count": null,
   "metadata": {},
   "outputs": [],
   "source": [
    "count_missing = df2.isnull().sum()\n",
    "missing = count_missing[count_missing>0]\n",
    "df2[missing.index].info()"
   ]
  },
  {
   "cell_type": "markdown",
   "metadata": {},
   "source": [
    "#### mode untuk categorical features"
   ]
  },
  {
   "cell_type": "code",
   "execution_count": null,
   "metadata": {},
   "outputs": [],
   "source": [
    "df2['Language'].value_counts()"
   ]
  },
  {
   "cell_type": "code",
   "execution_count": null,
   "metadata": {},
   "outputs": [],
   "source": [
    "df2['Language'] = df2['Language'].fillna(df2['Language'].mode()[0])"
   ]
  },
  {
   "cell_type": "code",
   "execution_count": null,
   "metadata": {},
   "outputs": [],
   "source": [
    "count_missing = df2.isnull().sum()\n",
    "missing = count_missing[count_missing>0]\n",
    "df2[missing.index].info()"
   ]
  },
  {
   "cell_type": "markdown",
   "metadata": {},
   "source": [
    "## De-Duplication\n",
    "Remove DUplicate Records"
   ]
  },
  {
   "cell_type": "code",
   "execution_count": null,
   "metadata": {},
   "outputs": [],
   "source": [
    "df3 = pd.read_csv('data/imdb_database.csv')"
   ]
  },
  {
   "cell_type": "markdown",
   "metadata": {},
   "source": [
    "#### Find Duplicated Rows"
   ]
  },
  {
   "cell_type": "code",
   "execution_count": null,
   "metadata": {},
   "outputs": [],
   "source": [
    "df3[df3.duplicated(subset=['movie_ID', 'movie_title'])]"
   ]
  },
  {
   "cell_type": "code",
   "execution_count": null,
   "metadata": {},
   "outputs": [],
   "source": [
    "# dropping ALL duplicate values\n",
    "df3.drop_duplicates(subset = ['movie_ID', 'movie_title'], keep = False, inplace = True)"
   ]
  },
  {
   "cell_type": "markdown",
   "metadata": {},
   "source": [
    "## Standardization and Normalization"
   ]
  },
  {
   "cell_type": "markdown",
   "metadata": {},
   "source": [
    "### Outliers Treatment\n",
    "how to treat outliers data to normalize distribution"
   ]
  },
  {
   "cell_type": "code",
   "execution_count": null,
   "metadata": {},
   "outputs": [],
   "source": [
    "### Find OUtliers\n",
    "plt.figure(figsize=(10,6))\n",
    "\n",
    "plt.subplot(1,2,1)\n",
    "plt.boxplot(df2['Budget'])\n",
    "plt.xlabel('Budget')\n",
    "\n",
    "plt.subplot(1,2,2)\n",
    "plt.boxplot(df2['Gross Earnings'])\n",
    "plt.xlabel('Gross Earnings')\n",
    "\n",
    "plt.show()"
   ]
  },
  {
   "cell_type": "code",
   "execution_count": null,
   "metadata": {},
   "outputs": [],
   "source": [
    "# IQR Method\n",
    "## IQR Method\n",
    "q1 = df2['Budget'].quantile(0.25)\n",
    "q3 = df2['Budget'].quantile(0.75)\n",
    "iqr = q3-q1\n",
    "lower_bound = q1 - 1.5*iqr\n",
    "upper_bound = q3 + 1.5*iqr"
   ]
  },
  {
   "cell_type": "code",
   "execution_count": null,
   "metadata": {},
   "outputs": [],
   "source": [
    "outliers = df2[(df2['Budget']>upper_bound)|(df2['Budget']<lower_bound)]\n",
    "print(len(outliers['Budget']))\n",
    "outliers['Budget'].head()"
   ]
  },
  {
   "cell_type": "code",
   "execution_count": null,
   "metadata": {},
   "outputs": [],
   "source": [
    "## Create a function to apply outlier detection\n",
    "def find_outliers(x):\n",
    "    if x.dtype == 'O':\n",
    "        return x\n",
    "    q1 = x.quantile(0.25)\n",
    "    q3 = x.quantile(0.75)\n",
    "    iqr = q3-q1\n",
    "    lower_bound = q1 - 1.5*iqr\n",
    "    upper_bound = q3 + 1.5*iqr\n",
    "    outliers = x[(x>upper_bound)|(x<lower_bound)]\n",
    "    x[(x>upper_bound)] = upper_bound\n",
    "    x[(x<lower_bound)] = lower_bound\n",
    "    return x"
   ]
  },
  {
   "cell_type": "code",
   "execution_count": null,
   "metadata": {},
   "outputs": [],
   "source": [
    "df2 = df2.apply(find_outliers, axis=0)"
   ]
  },
  {
   "cell_type": "code",
   "execution_count": null,
   "metadata": {},
   "outputs": [],
   "source": [
    "### Find OUtliers\n",
    "plt.figure(figsize=(10,6))\n",
    "\n",
    "plt.subplot(1,3,1)\n",
    "plt.boxplot(df2['Budget'])\n",
    "plt.xlabel('Budget')\n",
    "\n",
    "plt.subplot(1,3,2)\n",
    "plt.boxplot(df2['Gross Earnings'])\n",
    "plt.xlabel('Gross Earnings')\n",
    "\n",
    "plt.subplot(1,3,3)\n",
    "plt.boxplot(df2['Aspect Ratio'])\n",
    "plt.xlabel('Aspect Ratio')\n",
    "\n",
    "plt.show()"
   ]
  },
  {
   "cell_type": "markdown",
   "metadata": {},
   "source": [
    "### Standard Scaler"
   ]
  },
  {
   "cell_type": "code",
   "execution_count": null,
   "metadata": {},
   "outputs": [],
   "source": [
    "df_numeric = df2[['Aspect Ratio', 'Budget', 'Gross Earnings', 'User Votes', 'Reviews by Users', 'IMDB Score']]"
   ]
  },
  {
   "cell_type": "code",
   "execution_count": null,
   "metadata": {},
   "outputs": [],
   "source": [
    "from sklearn.preprocessing import StandardScaler\n",
    "\n",
    "scaler = StandardScaler()\n",
    "scaler.fit(df_numeric)"
   ]
  },
  {
   "cell_type": "code",
   "execution_count": null,
   "metadata": {},
   "outputs": [],
   "source": [
    "df_standardized = pd.DataFrame(scaler.transform(df_numeric),columns = df_numeric.columns)\n",
    "df_standardized.head()"
   ]
  },
  {
   "cell_type": "code",
   "execution_count": null,
   "metadata": {},
   "outputs": [],
   "source": [
    "plt.figure(figsize=(10,6))\n",
    "\n",
    "plt.subplot(1,2,1)\n",
    "plt.hist(df2['User Votes'])\n",
    "plt.xlabel('User Votes Before StandartScaler')\n",
    "\n",
    "plt.subplot(1,2,2)\n",
    "plt.hist(df_standardized['User Votes'])\n",
    "plt.xlabel('User Votes After StandartScaler')\n",
    "\n",
    "plt.show()"
   ]
  },
  {
   "cell_type": "markdown",
   "metadata": {},
   "source": [
    "### MinMax Scaler"
   ]
  },
  {
   "cell_type": "code",
   "execution_count": null,
   "metadata": {},
   "outputs": [],
   "source": [
    "from sklearn.preprocessing import MinMaxScaler\n",
    "\n",
    "scaler = MinMaxScaler(feature_range=(0,1))\n",
    "scaler.fit(df_numericeric)"
   ]
  },
  {
   "cell_type": "code",
   "execution_count": null,
   "metadata": {},
   "outputs": [],
   "source": [
    "df_minmax = pd.DataFrame(scaler.transform(df_numeric),columns = df_numeric.columns)\n",
    "df_minmax.head()"
   ]
  },
  {
   "cell_type": "code",
   "execution_count": null,
   "metadata": {},
   "outputs": [],
   "source": [
    "plt.figure(figsize=(10,6))\n",
    "\n",
    "plt.subplot(1,2,1)\n",
    "plt.hist(df2['User Votes'])\n",
    "plt.xlabel('User Votes Before MinMaxScaler')\n",
    "\n",
    "plt.subplot(1,2,2)\n",
    "plt.hist(df_minmax['User Votes'])\n",
    "plt.xlabel('User Votes After MinMaxScaler')\n",
    "\n",
    "plt.show()"
   ]
  },
  {
   "cell_type": "markdown",
   "metadata": {},
   "source": [
    "### Polynomial Transformation"
   ]
  },
  {
   "cell_type": "code",
   "execution_count": null,
   "metadata": {},
   "outputs": [],
   "source": [
    "from sklearn.preprocessing import PolynomialFeatures\n",
    "\n",
    "scaler = PolynomialFeatures(degree=2,)\n",
    "scaler.fit(df_numeric)"
   ]
  },
  {
   "cell_type": "code",
   "execution_count": null,
   "metadata": {},
   "outputs": [],
   "source": [
    "df_poly = pd.DataFrame(scaler.transform(df_minmax),columns = scaler.get_feature_names(df_minmax.columns))\n",
    "df_poly.head()"
   ]
  },
  {
   "cell_type": "code",
   "execution_count": null,
   "metadata": {},
   "outputs": [],
   "source": [
    "plt.figure(figsize=(10,6))\n",
    "\n",
    "plt.subplot(1,2,1)\n",
    "plt.hist(df_poly['User Votes'])\n",
    "plt.xlabel('User Votes Before PolynomialFeatures')\n",
    "\n",
    "plt.subplot(1,2,2)\n",
    "plt.hist(df_poly['User Votes^2'])\n",
    "plt.xlabel('User Votes After PolynomialFeatures')\n",
    "\n",
    "plt.show()"
   ]
  },
  {
   "cell_type": "markdown",
   "metadata": {},
   "source": [
    "### Normalization"
   ]
  },
  {
   "cell_type": "code",
   "execution_count": null,
   "metadata": {},
   "outputs": [],
   "source": [
    "from sklearn.preprocessing import Normalizer\n",
    "\n",
    "scaler = Normalizer()\n",
    "scaler.fit(df_numeric)"
   ]
  },
  {
   "cell_type": "code",
   "execution_count": null,
   "metadata": {},
   "outputs": [],
   "source": [
    "df_normalized = pd.DataFrame(scaler.transform(df_numeric),columns = df_numeric.columns)\n",
    "df_normalized.head()"
   ]
  },
  {
   "cell_type": "code",
   "execution_count": null,
   "metadata": {},
   "outputs": [],
   "source": [
    "plt.figure(figsize=(10,6))\n",
    "\n",
    "plt.subplot(1,2,1)\n",
    "plt.hist(df_numeric['Budget'])\n",
    "plt.xlabel('Budget Before Normalization')\n",
    "\n",
    "plt.subplot(1,2,2)\n",
    "plt.hist(df_normalized['Budget'])\n",
    "plt.xlabel('Budget After Normalization')\n",
    "\n",
    "plt.show()"
   ]
  },
  {
   "cell_type": "markdown",
   "metadata": {},
   "source": [
    "### Encoding (Categorical Encoding to Numerical Features)"
   ]
  },
  {
   "cell_type": "markdown",
   "metadata": {},
   "source": [
    "#### One Hot Encoder"
   ]
  },
  {
   "cell_type": "code",
   "execution_count": null,
   "metadata": {},
   "outputs": [],
   "source": [
    "df2['Language'].value_counts()"
   ]
  },
  {
   "cell_type": "code",
   "execution_count": null,
   "metadata": {},
   "outputs": [],
   "source": [
    "df_object = df2[['Language']]"
   ]
  },
  {
   "cell_type": "code",
   "execution_count": null,
   "metadata": {},
   "outputs": [],
   "source": [
    "from sklearn.preprocessing import OneHotEncoder\n",
    "scaler = OneHotEncoder()\n",
    "scaler.fit(df_object)"
   ]
  },
  {
   "cell_type": "code",
   "execution_count": null,
   "metadata": {},
   "outputs": [],
   "source": [
    "df_dummy = pd.DataFrame(scaler.transform(df_object).toarray(),columns = scaler.get_feature_names())"
   ]
  },
  {
   "cell_type": "code",
   "execution_count": null,
   "metadata": {},
   "outputs": [],
   "source": [
    "df_dummy.head()"
   ]
  },
  {
   "cell_type": "code",
   "execution_count": null,
   "metadata": {},
   "outputs": [],
   "source": []
  }
 ],
 "metadata": {
  "kernelspec": {
   "display_name": "Python 3",
   "language": "python",
   "name": "python3"
  },
  "language_info": {
   "codemirror_mode": {
    "name": "ipython",
    "version": 3
   },
   "file_extension": ".py",
   "mimetype": "text/x-python",
   "name": "python",
   "nbconvert_exporter": "python",
   "pygments_lexer": "ipython3",
   "version": "3.8.5"
  }
 },
 "nbformat": 4,
 "nbformat_minor": 4
}
